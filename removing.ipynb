{
 "cells": [
  {
   "cell_type": "code",
   "execution_count": 58,
   "id": "bdf1f06a",
   "metadata": {},
   "outputs": [
    {
     "name": "stdout",
     "output_type": "stream",
     "text": [
      "  Name  Age  Salary\n",
      "0    A   25   50000\n",
      "1    B   30   60000\n",
      "2    C   22   40000\n"
     ]
    }
   ],
   "source": [
    "import pandas as pd\n",
    "\n",
    "df = pd.DataFrame({\n",
    "    \"Name\": [\"A\", \"B\", \"C\"],\n",
    "    \"Age\": [25, 30, 22],\n",
    "    \"Salary\": [50000, 60000, 40000]\n",
    "})\n",
    "\n",
    "print(df)"
   ]
  },
  {
   "cell_type": "code",
   "execution_count": 59,
   "id": "5054eb77",
   "metadata": {},
   "outputs": [
    {
     "name": "stdout",
     "output_type": "stream",
     "text": [
      "  Name  Age\n",
      "0    A   25\n",
      "1    B   30\n",
      "2    C   22\n"
     ]
    }
   ],
   "source": [
    "# Remove one column\n",
    "df1 = df.drop(\"Salary\", axis=1)\n",
    "print(df1)"
   ]
  },
  {
   "cell_type": "code",
   "execution_count": 60,
   "id": "1fa97a23",
   "metadata": {},
   "outputs": [
    {
     "name": "stdout",
     "output_type": "stream",
     "text": [
      "  Name\n",
      "0    A\n",
      "1    B\n",
      "2    C\n"
     ]
    }
   ],
   "source": [
    "# Remove multiple columns\n",
    "df2 = df.drop([\"Age\", \"Salary\"], axis=1)\n",
    "print(df2)"
   ]
  },
  {
   "cell_type": "code",
   "execution_count": 61,
   "id": "dd06c310",
   "metadata": {},
   "outputs": [
    {
     "name": "stdout",
     "output_type": "stream",
     "text": [
      "  Name  Age  Salary\n",
      "0    A   25   50000\n",
      "2    C   22   40000\n"
     ]
    }
   ],
   "source": [
    "# Remove row at index 1\n",
    "df1 = df.drop(1)\n",
    "print(df1)"
   ]
  },
  {
   "cell_type": "code",
   "execution_count": 62,
   "id": "aae41793",
   "metadata": {},
   "outputs": [
    {
     "name": "stdout",
     "output_type": "stream",
     "text": [
      "  Name  Age  Salary\n",
      "1    B   30   60000\n"
     ]
    }
   ],
   "source": [
    "# Remove multiple rows\n",
    "df2 = df.drop([0, 2])\n",
    "print(df2)"
   ]
  },
  {
   "cell_type": "code",
   "execution_count": 63,
   "id": "89eaf104",
   "metadata": {},
   "outputs": [
    {
     "name": "stdout",
     "output_type": "stream",
     "text": [
      "  Name  Age  Salary\n",
      "0    A   25   50000\n",
      "1    B   30   60000\n"
     ]
    }
   ],
   "source": [
    "# Remove rows where Age < 25\n",
    "df1 = df[df[\"Age\"] >= 25]\n",
    "print(df1)"
   ]
  },
  {
   "cell_type": "code",
   "execution_count": 64,
   "id": "1a05beed",
   "metadata": {},
   "outputs": [
    {
     "name": "stdout",
     "output_type": "stream",
     "text": [
      "  Name  Age\n",
      "0    A   25\n",
      "1    B   30\n",
      "2    A   25\n",
      "3    C   22\n",
      "4    B   30\n"
     ]
    }
   ],
   "source": [
    "df = pd.DataFrame({\n",
    "    \"Name\": [\"A\", \"B\", \"A\", \"C\", \"B\"],\n",
    "    \"Age\": [25, 30, 25, 22, 30]\n",
    "})\n",
    "print(df)"
   ]
  },
  {
   "cell_type": "code",
   "execution_count": 65,
   "id": "c6888c89",
   "metadata": {},
   "outputs": [
    {
     "name": "stdout",
     "output_type": "stream",
     "text": [
      "  Name  Age\n",
      "0    A   25\n",
      "1    B   30\n",
      "3    C   22\n"
     ]
    }
   ],
   "source": [
    "# Remove duplicate rows\n",
    "df1 = df.drop_duplicates()\n",
    "print(df1)"
   ]
  },
  {
   "cell_type": "code",
   "execution_count": 66,
   "id": "227b34d3",
   "metadata": {},
   "outputs": [
    {
     "name": "stdout",
     "output_type": "stream",
     "text": [
      "  Name  Age\n",
      "0    A   25\n",
      "1    B   30\n",
      "3    C   22\n"
     ]
    }
   ],
   "source": [
    "# Remove duplicates only based on \"Name\"\n",
    "df2 = df.drop_duplicates(subset=[\"Name\"])\n",
    "print(df2)"
   ]
  },
  {
   "cell_type": "code",
   "execution_count": 67,
   "id": "2d5c6a7a",
   "metadata": {},
   "outputs": [
    {
     "name": "stdout",
     "output_type": "stream",
     "text": [
      "   Name   Age\n",
      "0     A  25.0\n",
      "1  None   NaN\n",
      "2     C  22.0\n"
     ]
    }
   ],
   "source": [
    "df = pd.DataFrame({\n",
    "    \"Name\": [\"A\", None, \"C\"],\n",
    "    \"Age\": [25, None, 22]\n",
    "})\n",
    "print(df)"
   ]
  },
  {
   "cell_type": "code",
   "execution_count": 68,
   "id": "9e1e39c9",
   "metadata": {},
   "outputs": [
    {
     "name": "stdout",
     "output_type": "stream",
     "text": [
      "  Name   Age\n",
      "0    A  25.0\n",
      "2    C  22.0\n"
     ]
    }
   ],
   "source": [
    "# Drop rows with any NaN\n",
    "df1 = df.dropna()\n",
    "print(df1)"
   ]
  },
  {
   "cell_type": "code",
   "execution_count": 69,
   "id": "a1a09198",
   "metadata": {},
   "outputs": [
    {
     "name": "stdout",
     "output_type": "stream",
     "text": [
      "  Name   Age\n",
      "0    A  25.0\n",
      "2    C  22.0\n"
     ]
    }
   ],
   "source": [
    "# Drop rows where all values are NaN\n",
    "df2 = df.dropna(how=\"all\")\n",
    "print(df2)"
   ]
  },
  {
   "cell_type": "code",
   "execution_count": 70,
   "id": "f21cfc62",
   "metadata": {},
   "outputs": [
    {
     "name": "stdout",
     "output_type": "stream",
     "text": [
      "  Name   Age\n",
      "0    A  25.0\n",
      "2    C  22.0\n"
     ]
    }
   ],
   "source": [
    "# Drop rows where Age is NaN only\n",
    "df3 = df.dropna(subset=[\"Age\"])\n",
    "print(df3)"
   ]
  }
 ],
 "metadata": {
  "kernelspec": {
   "display_name": "Python 3",
   "language": "python",
   "name": "python3"
  },
  "language_info": {
   "codemirror_mode": {
    "name": "ipython",
    "version": 3
   },
   "file_extension": ".py",
   "mimetype": "text/x-python",
   "name": "python",
   "nbconvert_exporter": "python",
   "pygments_lexer": "ipython3",
   "version": "3.11.9"
  }
 },
 "nbformat": 4,
 "nbformat_minor": 5
}
