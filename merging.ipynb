{
 "cells": [
  {
   "cell_type": "code",
   "execution_count": 3,
   "id": "969fb0c0",
   "metadata": {},
   "outputs": [
    {
     "name": "stdout",
     "output_type": "stream",
     "text": [
      "   ID Name\n",
      "0   1    A\n",
      "1   2    B\n",
      "2   3    C\n",
      "3   4    D\n"
     ]
    }
   ],
   "source": [
    "import pandas as pd\n",
    "\n",
    "df1 = pd.DataFrame({\"ID\": [1, 2], \"Name\": [\"A\", \"B\"]})\n",
    "df2 = pd.DataFrame({\"ID\": [3, 4], \"Name\": [\"C\", \"D\"]})\n",
    "\n",
    "# Append rows\n",
    "df = pd.concat([df1, df2], ignore_index=True)\n",
    "print(df)"
   ]
  },
  {
   "cell_type": "code",
   "execution_count": null,
   "id": "be7a891c",
   "metadata": {},
   "outputs": [],
   "source": [
    "df1 = pd.DataFrame({\"ID\": [1, 2, 3], \"Name\": [\"A\", \"B\", \"C\"]})\n",
    "df2 = pd.DataFrame({\"ID\": [1, 2, 4], \"Salary\": [50000, 60000, 70000]})"
   ]
  },
  {
   "cell_type": "code",
   "execution_count": 5,
   "id": "c5296ccb",
   "metadata": {},
   "outputs": [
    {
     "name": "stdout",
     "output_type": "stream",
     "text": [
      "   ID Name  Salary\n",
      "0   1    A   50000\n",
      "1   2    B   60000\n"
     ]
    }
   ],
   "source": [
    "# Inner join (only common IDs)\n",
    "df_inner = pd.merge(df1, df2, on=\"ID\", how=\"inner\")\n",
    "df_inner = pd.merge(df1, df2, on=\"ID\", how=\"inner\")\n",
    "print(df_inner)"
   ]
  },
  {
   "cell_type": "code",
   "execution_count": 6,
   "id": "b0d4f8f6",
   "metadata": {},
   "outputs": [
    {
     "name": "stdout",
     "output_type": "stream",
     "text": [
      "   ID Name   Salary\n",
      "0   1    A  50000.0\n",
      "1   2    B  60000.0\n",
      "2   3    C      NaN\n",
      "3   4  NaN  70000.0\n"
     ]
    }
   ],
   "source": [
    "# Inner join (only common IDs)\n",
    "df_outer = pd.merge(df1, df2, on=\"ID\", how=\"outer\")\n",
    "print(df_outer)"
   ]
  },
  {
   "cell_type": "code",
   "execution_count": 7,
   "id": "3f2aebf1",
   "metadata": {},
   "outputs": [
    {
     "name": "stdout",
     "output_type": "stream",
     "text": [
      "   ID Name   Salary\n",
      "0   1    A  50000.0\n",
      "1   2    B  60000.0\n",
      "2   3    C      NaN\n"
     ]
    }
   ],
   "source": [
    "# Left join (all from df1, match from df2)\n",
    "df_left = pd.merge(df1, df2, on=\"ID\", how=\"left\")\n",
    "print(df_left)"
   ]
  },
  {
   "cell_type": "code",
   "execution_count": 8,
   "id": "dff5e858",
   "metadata": {},
   "outputs": [
    {
     "name": "stdout",
     "output_type": "stream",
     "text": [
      "   ID Name  Salary\n",
      "0   1    A   50000\n",
      "1   2    B   60000\n",
      "2   4  NaN   70000\n"
     ]
    }
   ],
   "source": [
    "# Left join (all from df1, match from df2)\n",
    "df_right = pd.merge(df1, df2, on=\"ID\", how=\"right\")\n",
    "print(df_right)"
   ]
  },
  {
   "cell_type": "code",
   "execution_count": 10,
   "id": "82569de4",
   "metadata": {},
   "outputs": [
    {
     "name": "stdout",
     "output_type": "stream",
     "text": [
      "  Name   Salary\n",
      "1    A  50000.0\n",
      "2    B  60000.0\n",
      "3    C      NaN\n"
     ]
    }
   ],
   "source": [
    "df1 = pd.DataFrame({\"Name\": [\"A\", \"B\", \"C\"]}, index=[1, 2, 3])\n",
    "df2 = pd.DataFrame({\"Salary\": [50000, 60000, 70000]}, index=[1, 2, 4])\n",
    "\n",
    "df_join = df1.join(df2, how=\"left\")\n",
    "print(df_join)"
   ]
  },
  {
   "cell_type": "code",
   "execution_count": 11,
   "id": "acae3464",
   "metadata": {},
   "outputs": [
    {
     "name": "stdout",
     "output_type": "stream",
     "text": [
      "    Category    Item\n",
      "0      Fruit   Apple\n",
      "1      Fruit  Banana\n",
      "2      Fruit  Carrot\n",
      "3  Vegetable   Apple\n",
      "4  Vegetable  Banana\n",
      "5  Vegetable  Carrot\n"
     ]
    }
   ],
   "source": [
    "df1 = pd.DataFrame({\"Category\": [\"Fruit\", \"Vegetable\"]})\n",
    "df2 = pd.DataFrame({\"Item\": [\"Apple\", \"Banana\", \"Carrot\"]})\n",
    "\n",
    "# Cross join\n",
    "df_cross = df1.merge(df2, how=\"cross\")\n",
    "print(df_cross)"
   ]
  }
 ],
 "metadata": {
  "kernelspec": {
   "display_name": "Python 3",
   "language": "python",
   "name": "python3"
  },
  "language_info": {
   "codemirror_mode": {
    "name": "ipython",
    "version": 3
   },
   "file_extension": ".py",
   "mimetype": "text/x-python",
   "name": "python",
   "nbconvert_exporter": "python",
   "pygments_lexer": "ipython3",
   "version": "3.11.9"
  }
 },
 "nbformat": 4,
 "nbformat_minor": 5
}
