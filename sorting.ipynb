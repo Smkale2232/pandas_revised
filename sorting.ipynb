{
 "cells": [
  {
   "cell_type": "code",
   "execution_count": 13,
   "id": "e88ad3b1",
   "metadata": {},
   "outputs": [],
   "source": [
    "import pandas as pd\n",
    "\n",
    "data = {\n",
    "    \"Name\": [\"A\", \"B\", \"C\", \"D\"],\n",
    "    \"Age\": [25, 30, 22, 30],\n",
    "    \"Salary\": [50000, 60000, 40000, 20000]\n",
    "}\n",
    "\n",
    "df = pd.DataFrame(data)\n"
   ]
  },
  {
   "cell_type": "code",
   "execution_count": 14,
   "id": "c1b8314f",
   "metadata": {},
   "outputs": [
    {
     "name": "stdout",
     "output_type": "stream",
     "text": [
      "  Name  Age  Salary\n",
      "2    C   22   40000\n",
      "0    A   25   50000\n",
      "1    B   30   60000\n",
      "3    D   30   20000\n"
     ]
    }
   ],
   "source": [
    "print(df.sort_values(by=\"Age\"))"
   ]
  },
  {
   "cell_type": "code",
   "execution_count": 16,
   "id": "ee8d7f32",
   "metadata": {},
   "outputs": [
    {
     "name": "stdout",
     "output_type": "stream",
     "text": [
      "  Name  Age  Salary\n",
      "2    C   22   40000\n",
      "0    A   25   50000\n",
      "3    D   30   20000\n",
      "1    B   30   60000\n"
     ]
    }
   ],
   "source": [
    "df.sort_values(by=[\"Age\", \"Salary\"], ascending=[True, True], inplace=True)\n",
    "print(df)"
   ]
  },
  {
   "cell_type": "code",
   "execution_count": 17,
   "id": "6ca52807",
   "metadata": {},
   "outputs": [
    {
     "name": "stdout",
     "output_type": "stream",
     "text": [
      "  Name  Age  Salary\n",
      "3    D   30   20000\n",
      "1    B   30   60000\n",
      "0    A   25   50000\n",
      "2    C   22   40000\n"
     ]
    }
   ],
   "source": [
    "df.sort_values(by=[\"Age\", \"Salary\"], ascending=[False, True], inplace=True)\n",
    "print(df)"
   ]
  }
 ],
 "metadata": {
  "kernelspec": {
   "display_name": "Python 3",
   "language": "python",
   "name": "python3"
  },
  "language_info": {
   "codemirror_mode": {
    "name": "ipython",
    "version": 3
   },
   "file_extension": ".py",
   "mimetype": "text/x-python",
   "name": "python",
   "nbconvert_exporter": "python",
   "pygments_lexer": "ipython3",
   "version": "3.11.9"
  }
 },
 "nbformat": 4,
 "nbformat_minor": 5
}
