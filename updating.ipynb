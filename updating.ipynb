{
 "cells": [
  {
   "cell_type": "code",
   "execution_count": 14,
   "id": "fbb24c90",
   "metadata": {},
   "outputs": [
    {
     "name": "stdout",
     "output_type": "stream",
     "text": [
      "  Name  Age\n",
      "0    A   25\n",
      "1    B   30\n",
      "2    C   22\n"
     ]
    }
   ],
   "source": [
    "import pandas as pd\n",
    "\n",
    "df = pd.DataFrame({\n",
    "    \"Name\": [\"A\", \"B\", \"C\"],\n",
    "    \"Age\": [25, 30, 22]\n",
    "})\n",
    "\n",
    "print(df)"
   ]
  },
  {
   "cell_type": "code",
   "execution_count": 15,
   "id": "f13e69df",
   "metadata": {},
   "outputs": [
    {
     "name": "stdout",
     "output_type": "stream",
     "text": [
      "  Name  Age\n",
      "0    A   25\n",
      "1    B   35\n",
      "2    C   22\n"
     ]
    }
   ],
   "source": [
    "# Update age of \"B\" to 35\n",
    "df.loc[df[\"Name\"] == \"B\", \"Age\"] = 35\n",
    "print(df)"
   ]
  },
  {
   "cell_type": "code",
   "execution_count": 16,
   "id": "6f8a0345",
   "metadata": {},
   "outputs": [
    {
     "name": "stdout",
     "output_type": "stream",
     "text": [
      "  Name  Age\n",
      "0    A   26\n",
      "1    B   36\n",
      "2    C   23\n"
     ]
    }
   ],
   "source": [
    "# Increase all ages by 1\n",
    "df[\"Age\"] = df[\"Age\"] + 1\n",
    "print(df)"
   ]
  },
  {
   "cell_type": "code",
   "execution_count": 17,
   "id": "9d1f92e9",
   "metadata": {},
   "outputs": [
    {
     "name": "stdout",
     "output_type": "stream",
     "text": [
      "  Name  Age\n",
      "0    A   31\n",
      "1    B   36\n",
      "2    C   28\n"
     ]
    }
   ],
   "source": [
    "# If Age < 30, add 5 years\n",
    "df.loc[df[\"Age\"] < 30, \"Age\"] += 5\n",
    "print(df)"
   ]
  },
  {
   "cell_type": "code",
   "execution_count": 18,
   "id": "ee97b368",
   "metadata": {},
   "outputs": [
    {
     "name": "stdout",
     "output_type": "stream",
     "text": [
      "  Name  Age   Salary\n",
      "0    A   31      NaN\n",
      "1    B   36      NaN\n",
      "2    C   40  50000.0\n"
     ]
    }
   ],
   "source": [
    "# Set Age=40 and add new Salary column for person \"C\"\n",
    "df.loc[df[\"Name\"] == \"C\", [\"Age\", \"Salary\"]] = [40, 50000]\n",
    "print(df)"
   ]
  },
  {
   "cell_type": "code",
   "execution_count": 19,
   "id": "582e9fd5",
   "metadata": {},
   "outputs": [
    {
     "name": "stdout",
     "output_type": "stream",
     "text": [
      "  Name  Age   Salary\n",
      "0    A   26      NaN\n",
      "1    B   36      NaN\n",
      "2    C   23  50000.0\n"
     ]
    }
   ],
   "source": [
    "df1 = pd.DataFrame({\n",
    "    \"Name\": [\"A\", \"B\", \"C\"],\n",
    "    \"Age\": [26, None, 23]\n",
    "})\n",
    "\n",
    "df.update(df1)  # Updates only non-null values\n",
    "print(df)\n"
   ]
  },
  {
   "cell_type": "code",
   "execution_count": 20,
   "id": "7a41e455",
   "metadata": {},
   "outputs": [
    {
     "name": "stdout",
     "output_type": "stream",
     "text": [
      "  Name  Age   Salary\n",
      "0    A   26      NaN\n",
      "1    B   36      NaN\n",
      "2    C   23  50000.0\n"
     ]
    }
   ],
   "source": [
    "df_new = df.copy()\n",
    "df_new.update(df1)\n",
    "print(df)"
   ]
  },
  {
   "cell_type": "code",
   "execution_count": 21,
   "id": "dead6fab",
   "metadata": {},
   "outputs": [
    {
     "name": "stdout",
     "output_type": "stream",
     "text": [
      "  Name  Age   Salary Country\n",
      "0    A   26      NaN   India\n",
      "1    B   36      NaN     USA\n",
      "2    C   23  50000.0      UK\n"
     ]
    }
   ],
   "source": [
    "df[\"Country\"] = [\"India\", \"USA\", \"UK\"]  # new column\n",
    "df[\"Age\"] = df[\"Age\"].fillna(0)         # update column values\n",
    "print(df)"
   ]
  }
 ],
 "metadata": {
  "kernelspec": {
   "display_name": "Python 3",
   "language": "python",
   "name": "python3"
  },
  "language_info": {
   "codemirror_mode": {
    "name": "ipython",
    "version": 3
   },
   "file_extension": ".py",
   "mimetype": "text/x-python",
   "name": "python",
   "nbconvert_exporter": "python",
   "pygments_lexer": "ipython3",
   "version": "3.11.9"
  }
 },
 "nbformat": 4,
 "nbformat_minor": 5
}
